{
 "cells": [
  {
   "cell_type": "code",
   "execution_count": 115,
   "metadata": {},
   "outputs": [],
   "source": [
    "import numpy as np"
   ]
  },
  {
   "cell_type": "code",
   "execution_count": 116,
   "metadata": {},
   "outputs": [],
   "source": [
    "#Extração de Data, hora, periodo, dia da semana, dia do ano\n",
    "\n",
    "def ext_datahour(df,column):\n",
    "    size = df[column].map(lambda x: len(x)).max()\n",
    "    df[column] = pd.to_datetime(df[column])\n",
    "    df['DATA'] = df[column].dt.strftime('%d/%m/%y')\n",
    "    \n",
    "    if size > 10:\n",
    "        df['HORA'] = df[column].dt.strftime('%H').astype(int)\n",
    "        df['PERIODO'] = np.around(df['HORA']/6).astype(int)\n",
    "    \n",
    "    df['DIA_SEMANA'] = df[column].dt.dayofweek\n",
    "    df['DATA'] = pd.to_datetime(df['DATA'])\n",
    "    df['DAYOFYEAR'] = df['DATA'].apply(lambda x: x.dayofyear)\n",
    "    return df"
   ]
  },
  {
   "cell_type": "code",
   "execution_count": null,
   "metadata": {},
   "outputs": [],
   "source": []
  },
  {
   "cell_type": "code",
   "execution_count": null,
   "metadata": {},
   "outputs": [],
   "source": []
  },
  {
   "cell_type": "code",
   "execution_count": null,
   "metadata": {},
   "outputs": [],
   "source": []
  },
  {
   "cell_type": "code",
   "execution_count": null,
   "metadata": {},
   "outputs": [],
   "source": []
  },
  {
   "cell_type": "code",
   "execution_count": null,
   "metadata": {},
   "outputs": [],
   "source": []
  },
  {
   "cell_type": "code",
   "execution_count": null,
   "metadata": {},
   "outputs": [],
   "source": []
  }
 ],
 "metadata": {
  "kernelspec": {
   "display_name": "Python (ner)",
   "language": "python",
   "name": "ner"
  },
  "language_info": {
   "codemirror_mode": {
    "name": "ipython",
    "version": 3
   },
   "file_extension": ".py",
   "mimetype": "text/x-python",
   "name": "python",
   "nbconvert_exporter": "python",
   "pygments_lexer": "ipython3",
   "version": "3.6.4"
  }
 },
 "nbformat": 4,
 "nbformat_minor": 2
}
