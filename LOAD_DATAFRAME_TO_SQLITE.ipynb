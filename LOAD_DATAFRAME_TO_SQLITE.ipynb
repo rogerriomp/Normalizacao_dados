{
 "cells": [
  {
   "cell_type": "code",
   "execution_count": 1,
   "metadata": {},
   "outputs": [],
   "source": [
    "import pandas as pd\n",
    "import sqlite3\n",
    "conn = sqlite3.connect('NOMEDOBANCO.db') #VAI CRIAR UMA BASE LOCAL NA PASTA DO PROJETO, CASO JÁ EXISTA SERA CONECTADA À MESMA\n",
    "cur = conn.cursor()"
   ]
  },
  {
   "cell_type": "code",
   "execution_count": 3,
   "metadata": {},
   "outputs": [],
   "source": [
    "for i in pd.read_csv('NOMEDOARQUIVO.csv',  chunksize=500000): #REALIZA A LEITURA DE 500 MIL LINHAS POR VEZ\n",
    "    i.columns = ['COL_1','COL_2','COL_3','COL_4','COL_5','COL_6','COL_N'] #NESTE CASO O CSV NÃO TINHA CABEÇALHO CASO O SEU JÁ TENHA É SÓ COMENTAR ESTA LINHA.\n",
    "    i.to_sql('NOMEDATABELA',conn, if_exists='append', index=False, chunksize=50000) #AQUI ELE COMITA A CADA 50 MIL LINHAS"
   ]
  }
 ],
 "metadata": {
  "kernelspec": {
   "display_name": "Python (ner)",
   "language": "python",
   "name": "ner"
  },
  "language_info": {
   "codemirror_mode": {
    "name": "ipython",
    "version": 3
   },
   "file_extension": ".py",
   "mimetype": "text/x-python",
   "name": "python",
   "nbconvert_exporter": "python",
   "pygments_lexer": "ipython3",
   "version": "3.6.4"
  }
 },
 "nbformat": 4,
 "nbformat_minor": 2
}
